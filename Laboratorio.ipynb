{
 "cells": [
  {
   "cell_type": "code",
   "execution_count": 1,
   "metadata": {},
   "outputs": [],
   "source": [
    "import pandas as pd\n",
    "import numpy as np\n",
    "import matplotlib.pyplot as plt\n",
    "import seaborn as sns\n",
    "import geopandas as gpd\n",
    "from statsmodels.tsa.seasonal import STL\n",
    "from statsmodels.tsa.statespace.sarimax import SARIMAX\n",
    "from prophet import Prophet\n",
    "from sklearn.ensemble import IsolationForest\n",
    "import tensorflow as tf\n",
    "from tensorflow.keras.models import Sequential\n",
    "from tensorflow.keras.layers import LSTM, Dense"
   ]
  },
  {
   "cell_type": "code",
   "execution_count": 35,
   "metadata": {},
   "outputs": [],
   "source": [
    "base_dados = pd.read_csv('dados_limpos.csv')"
   ]
  },
  {
   "cell_type": "code",
   "execution_count": 36,
   "metadata": {},
   "outputs": [],
   "source": [
    "# Remover a coluna 'FRP'\n",
    "base_dados = base_dados.drop(columns=['FRP'])\n",
    "\n",
    "# Remover as linhas com dados nulos nas colunas 'DiaSemChuva', 'Precipitacao', 'RiscoFogo'\n",
    "base_dados = base_dados.dropna(subset=['DiaSemChuva', 'Precipitacao', 'RiscoFogo'])\n",
    "\n",
    "# Converter a coluna 'DataHora' para o formato datetime\n",
    "base_dados['DataHora'] = pd.to_datetime(base_dados['DataHora'])"
   ]
  },
  {
   "cell_type": "code",
   "execution_count": 37,
   "metadata": {},
   "outputs": [
    {
     "name": "stdout",
     "output_type": "stream",
     "text": [
      "Número de linhas antes de remover outliers: 35152677\n",
      "Número de linhas após remover outliers: 34849126\n"
     ]
    }
   ],
   "source": [
    "import pandas as pd\n",
    "\n",
    "# Supondo que o DataFrame base_dados já esteja carregado\n",
    "\n",
    "# Filtrar os dados para manter apenas os valores de RiscoFogo entre 0 e 1\n",
    "filtered_base_dados = base_dados[(base_dados['RiscoFogo'] >= 0)]\n",
    "\n",
    "# Exibir algumas informações sobre os dados filtrados\n",
    "print(f\"Número de linhas antes de remover outliers: {len(base_dados)}\")\n",
    "print(f\"Número de linhas após remover outliers: {len(filtered_base_dados)}\")\n"
   ]
  },
  {
   "cell_type": "code",
   "execution_count": 38,
   "metadata": {},
   "outputs": [],
   "source": [
    "positive_base_dados = base_dados[(base_dados['RiscoFogo'] > 1)]\n"
   ]
  },
  {
   "cell_type": "code",
   "execution_count": 39,
   "metadata": {},
   "outputs": [
    {
     "name": "stdout",
     "output_type": "stream",
     "text": [
      "<class 'pandas.core.frame.DataFrame'>\n",
      "Index: 303551 entries, 1301535 to 36850702\n",
      "Data columns (total 11 columns):\n",
      " #   Column        Non-Null Count   Dtype         \n",
      "---  ------        --------------   -----         \n",
      " 0   DataHora      303551 non-null  datetime64[ns]\n",
      " 1   Satelite      303551 non-null  object        \n",
      " 2   Pais          303551 non-null  object        \n",
      " 3   Estado        303551 non-null  object        \n",
      " 4   Municipio     303551 non-null  object        \n",
      " 5   Bioma         303428 non-null  object        \n",
      " 6   DiaSemChuva   303551 non-null  float64       \n",
      " 7   Precipitacao  303551 non-null  float64       \n",
      " 8   RiscoFogo     303551 non-null  float64       \n",
      " 9   Latitude      303551 non-null  float64       \n",
      " 10  Longitude     303551 non-null  float64       \n",
      "dtypes: datetime64[ns](1), float64(5), object(5)\n",
      "memory usage: 27.8+ MB\n"
     ]
    }
   ],
   "source": [
    "negative_base_dados.info()"
   ]
  },
  {
   "cell_type": "code",
   "execution_count": 40,
   "metadata": {},
   "outputs": [
    {
     "data": {
      "text/plain": [
       "-303551"
      ]
     },
     "execution_count": 40,
     "metadata": {},
     "output_type": "execute_result"
    }
   ],
   "source": [
    "34849126 - 35152677 \n"
   ]
  },
  {
   "cell_type": "code",
   "execution_count": 34,
   "metadata": {},
   "outputs": [
    {
     "name": "stderr",
     "output_type": "stream",
     "text": [
      "C:\\Users\\gustavo.j.siebel\\AppData\\Local\\Temp\\ipykernel_4308\\656509466.py:6: SettingWithCopyWarning: \n",
      "A value is trying to be set on a copy of a slice from a DataFrame.\n",
      "Try using .loc[row_indexer,col_indexer] = value instead\n",
      "\n",
      "See the caveats in the documentation: https://pandas.pydata.org/pandas-docs/stable/user_guide/indexing.html#returning-a-view-versus-a-copy\n",
      "  filtered_base_dados['DataHora'] = pd.to_datetime(filtered_base_dados['DataHora'])\n"
     ]
    },
    {
     "data": {
      "image/png": "[encoded data removed]",
      "text/plain": [
       "<Figure size 1500x700 with 1 Axes>"
      ]
     },
     "metadata": {},
     "output_type": "display_data"
    }
   ],
   "source": [
    "import pandas as pd\n",
    "import matplotlib.pyplot as plt\n",
    "\n",
    "# Supondo que seu dataframe se chame 'negative_base_dados'\n",
    "# Certifique-se de que a coluna 'DataHora' é do tipo datetime\n",
    "filtered_base_dados['DataHora'] = pd.to_datetime(filtered_base_dados['DataHora'])\n",
    "\n",
    "# Criar o gráfico temporal\n",
    "plt.figure(figsize=(15, 7))\n",
    "plt.plot(filtered_base_dados['DataHora'], filtered_base_dados['RiscoFogo'], marker='.', linestyle='-', linewidth=0.5)\n",
    "\n",
    "# Adicionar título e rótulos aos eixos\n",
    "plt.title('Risco de Fogo ao Longo do Tempo')\n",
    "plt.xlabel('DataHora')\n",
    "plt.ylabel('RiscoFogo')\n",
    "\n",
    "# Melhorar a formatação da linha do tempo\n",
    "plt.gcf().autofmt_xdate()\n",
    "\n",
    "# Mostrar o gráfico\n",
    "plt.show()\n"
   ]
  },
  {
   "cell_type": "code",
   "execution_count": 11,
   "metadata": {},
   "outputs": [],
   "source": [
    "import os\n",
    "import pandas as pd\n",
    "import matplotlib.pyplot as plt\n"
   ]
  },
  {
   "cell_type": "code",
   "execution_count": 2,
   "metadata": {},
   "outputs": [],
   "source": [
    "# Caminho da pasta onde estão os arquivos CSV\n",
    "caminho_pasta = 'dados\\Focos Incendio 2013-2023'\n",
    "\n",
    "# Lista todos os arquivos na pasta\n",
    "arquivos_csv = [f for f in os.listdir(caminho_pasta) if f.endswith('.csv')]\n"
   ]
  },
  {
   "cell_type": "code",
   "execution_count": 3,
   "metadata": {},
   "outputs": [],
   "source": [
    "# Lista para armazenar DataFrames\n",
    "dataframes = []"
   ]
  },
  {
   "cell_type": "code",
   "execution_count": 4,
   "metadata": {},
   "outputs": [],
   "source": [
    "# Lê cada arquivo CSV e armazena no DataFrame\n",
    "for arquivo in arquivos_csv:\n",
    "    caminho_arquivo = os.path.join(caminho_pasta, arquivo)\n",
    "    df = pd.read_csv(caminho_arquivo)\n",
    "    dataframes.append(df)\n",
    "\n",
    "# Concatena todos os DataFrames em um único DataFrame\n",
    "base_dados = pd.concat(dataframes, ignore_index=True)"
   ]
  },
  {
   "cell_type": "code",
   "execution_count": 5,
   "metadata": {},
   "outputs": [
    {
     "data": {
      "text/html": [
       "<div>\n",
       "<style scoped>\n",
       "    .dataframe tbody tr th:only-of-type {\n",
       "        vertical-align: middle;\n",
       "    }\n",
       "\n",
       "    .dataframe tbody tr th {\n",
       "        vertical-align: top;\n",
       "    }\n",
       "\n",
       "    .dataframe thead th {\n",
       "        text-align: right;\n",
       "    }\n",
       "</style>\n",
       "<table border=\"1\" class=\"dataframe\">\n",
       "  <thead>\n",
       "    <tr style=\"text-align: right;\">\n",
       "      <th></th>\n",
       "      <th>id_bdq</th>\n",
       "      <th>foco_id</th>\n",
       "      <th>lat</th>\n",
       "      <th>lon</th>\n",
       "      <th>data_pas</th>\n",
       "      <th>pais</th>\n",
       "      <th>estado</th>\n",
       "      <th>municipio</th>\n",
       "      <th>bioma</th>\n",
       "    </tr>\n",
       "  </thead>\n",
       "  <tbody>\n",
       "    <tr>\n",
       "      <th>0</th>\n",
       "      <td>129395262</td>\n",
       "      <td>423e9a18-5abb-11e8-911c-28924ad12c5c</td>\n",
       "      <td>-10.983</td>\n",
       "      <td>-37.953</td>\n",
       "      <td>2014-02-16 16:09:00</td>\n",
       "      <td>Brasil</td>\n",
       "      <td>SERGIPE</td>\n",
       "      <td>TOBIAS BARRETO</td>\n",
       "      <td>Caatinga</td>\n",
       "    </tr>\n",
       "    <tr>\n",
       "      <th>1</th>\n",
       "      <td>129395261</td>\n",
       "      <td>423e9a17-5abb-11e8-911c-28924ad12c5c</td>\n",
       "      <td>-10.934</td>\n",
       "      <td>-37.731</td>\n",
       "      <td>2014-02-16 16:09:00</td>\n",
       "      <td>Brasil</td>\n",
       "      <td>SERGIPE</td>\n",
       "      <td>LAGARTO</td>\n",
       "      <td>Caatinga</td>\n",
       "    </tr>\n",
       "    <tr>\n",
       "      <th>2</th>\n",
       "      <td>129400676</td>\n",
       "      <td>86bb03da-5aba-11e8-911c-28924ad12c5c</td>\n",
       "      <td>1.662</td>\n",
       "      <td>-60.695</td>\n",
       "      <td>2014-02-16 17:51:00</td>\n",
       "      <td>Brasil</td>\n",
       "      <td>RORAIMA</td>\n",
       "      <td>CARACARAÍ</td>\n",
       "      <td>Amazônia</td>\n",
       "    </tr>\n",
       "    <tr>\n",
       "      <th>3</th>\n",
       "      <td>129400677</td>\n",
       "      <td>86bb03db-5aba-11e8-911c-28924ad12c5c</td>\n",
       "      <td>-0.068</td>\n",
       "      <td>-66.978</td>\n",
       "      <td>2014-02-16 17:51:00</td>\n",
       "      <td>Brasil</td>\n",
       "      <td>AMAZONAS</td>\n",
       "      <td>SÃO GABRIEL DA CACHOEIRA</td>\n",
       "      <td>Amazônia</td>\n",
       "    </tr>\n",
       "    <tr>\n",
       "      <th>4</th>\n",
       "      <td>129400678</td>\n",
       "      <td>86bb03dc-5aba-11e8-911c-28924ad12c5c</td>\n",
       "      <td>1.855</td>\n",
       "      <td>-60.844</td>\n",
       "      <td>2014-02-16 17:51:00</td>\n",
       "      <td>Brasil</td>\n",
       "      <td>RORAIMA</td>\n",
       "      <td>CARACARAÍ</td>\n",
       "      <td>Amazônia</td>\n",
       "    </tr>\n",
       "  </tbody>\n",
       "</table>\n",
       "</div>"
      ],
      "text/plain": [
       "      id_bdq                               foco_id     lat     lon  \\\n",
       "0  129395262  423e9a18-5abb-11e8-911c-28924ad12c5c -10.983 -37.953   \n",
       "1  129395261  423e9a17-5abb-11e8-911c-28924ad12c5c -10.934 -37.731   \n",
       "2  129400676  86bb03da-5aba-11e8-911c-28924ad12c5c   1.662 -60.695   \n",
       "3  129400677  86bb03db-5aba-11e8-911c-28924ad12c5c  -0.068 -66.978   \n",
       "4  129400678  86bb03dc-5aba-11e8-911c-28924ad12c5c   1.855 -60.844   \n",
       "\n",
       "              data_pas    pais    estado                 municipio     bioma  \n",
       "0  2014-02-16 16:09:00  Brasil   SERGIPE            TOBIAS BARRETO  Caatinga  \n",
       "1  2014-02-16 16:09:00  Brasil   SERGIPE                   LAGARTO  Caatinga  \n",
       "2  2014-02-16 17:51:00  Brasil   RORAIMA                 CARACARAÍ  Amazônia  \n",
       "3  2014-02-16 17:51:00  Brasil  AMAZONAS  SÃO GABRIEL DA CACHOEIRA  Amazônia  \n",
       "4  2014-02-16 17:51:00  Brasil   RORAIMA                 CARACARAÍ  Amazônia  "
      ]
     },
     "execution_count": 5,
     "metadata": {},
     "output_type": "execute_result"
    }
   ],
   "source": [
    "# Exibe as primeiras linhas do DataFrame concatenado\n",
    "base_dados.head()"
   ]
  },
  {
   "cell_type": "code",
   "execution_count": 7,
   "metadata": {},
   "outputs": [
    {
     "name": "stdout",
     "output_type": "stream",
     "text": [
      "Número de linhas duplicadas antes da limpeza: 0\n"
     ]
    }
   ],
   "source": [
    "print(\"Número de linhas duplicadas antes da limpeza:\", base_dados.duplicated().sum())\n"
   ]
  },
  {
   "cell_type": "code",
   "execution_count": null,
   "metadata": {},
   "outputs": [],
   "source": [
    "#Verifica se ainda há linhas duplicadas\n",
    "#duplicated_rows = base_dados[base_dados.duplicated(subset=['DataHora', 'Satelite', 'Pais', 'Estado', 'Municipio', 'Bioma', 'DiaSemChuva', 'Precipitacao', 'RiscoFogo', 'Latitude', 'Longitude'], keep=False)]\n",
    "duplicated_rows = base_dados[base_dados.duplicated()]\n",
    "# Exibir as linhas duplicadas\n",
    "duplicated_rows"
   ]
  },
  {
   "cell_type": "code",
   "execution_count": 16,
   "metadata": {},
   "outputs": [
    {
     "name": "stdout",
     "output_type": "stream",
     "text": [
      "<class 'pandas.core.frame.DataFrame'>\n",
      "RangeIndex: 1912439 entries, 0 to 1912438\n",
      "Data columns (total 9 columns):\n",
      " #   Column     Dtype  \n",
      "---  ------     -----  \n",
      " 0   id_bdq     int64  \n",
      " 1   foco_id    object \n",
      " 2   lat        float64\n",
      " 3   lon        float64\n",
      " 4   data_pas   object \n",
      " 5   pais       object \n",
      " 6   estado     object \n",
      " 7   municipio  object \n",
      " 8   bioma      object \n",
      "dtypes: float64(2), int64(1), object(6)\n",
      "memory usage: 131.3+ MB\n"
     ]
    }
   ],
   "source": [
    "base_dados.info()"
   ]
  },
  {
   "cell_type": "code",
   "execution_count": 21,
   "metadata": {},
   "outputs": [],
   "source": [
    "df = base_dados\n",
    "\n",
    "# Convertendo a coluna data_pas para datetime\n",
    "df['data_pas'] = pd.to_datetime(df['data_pas'])\n",
    "\n",
    "# Verificando duplicatas e removendo\n",
    "df = df.drop_duplicates()\n",
    "\n"
   ]
  },
  {
   "cell_type": "code",
   "execution_count": 24,
   "metadata": {},
   "outputs": [],
   "source": [
    "df.to_csv('focos_incendio_geral.csv')"
   ]
  },
  {
   "cell_type": "code",
   "execution_count": null,
   "metadata": {},
   "outputs": [],
   "source": []
  }
 ],
 "metadata": {
  "kernelspec": {
   "display_name": "base",
   "language": "python",
   "name": "python3"
  },
  "language_info": {
   "codemirror_mode": {
    "name": "ipython",
    "version": 3
   },
   "file_extension": ".py",
   "mimetype": "text/x-python",
   "name": "python",
   "nbconvert_exporter": "python",
   "pygments_lexer": "ipython3",
   "version": "3.11.7"
  }
 },
 "nbformat": 4,
 "nbformat_minor": 2
}
